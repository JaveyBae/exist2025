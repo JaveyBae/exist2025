{
 "cells": [
  {
   "cell_type": "code",
   "id": "initial_id",
   "metadata": {
    "collapsed": true,
    "ExecuteTime": {
     "end_time": "2025-10-06T17:00:52.867766Z",
     "start_time": "2025-10-06T17:00:52.692021Z"
    }
   },
   "source": [
    "import pandas as pd\n",
    "import re\n",
    "df = pd.read_csv('/Users/nili/PycharmProjects/exist2025/Labeled __Clean_Dataset.csv')\n",
    "#print(df.head(10))\n",
    "\n",
    "def clean_text(text: str) -> str:\n",
    "    if pd.isna(text):\n",
    "        return \"\"\n",
    "    \n",
    "    text = re.sub(r'http\\S+|www\\S+|https\\S+', '', text, flags=re.MULTILINE)\n",
    "    text = text.lower()\n",
    "    text = text.strip()\n",
    "    return text\n",
    "\n",
    "\n",
    "df['text'] = df['text'].apply(clean_text)\n",
    "\n",
    "#print('Preprocessed Data:')\n",
    "#print(df['text'].head(10))\n",
    "\n",
    "\n",
    "df.to_csv('/Users/nili/PycharmProjects/exist2025/dataset_preprocessed.csv', index=False)\n"
   ],
   "outputs": [
    {
     "name": "stdout",
     "output_type": "stream",
     "text": [
      "   id language                                               text  \\\n",
      "0   1       en  She calls herself \"anti-feminazi\" how about sh...   \n",
      "1   2       en  Now, back to these women, the brave and the be...   \n",
      "2   3       en  @CurvyBandida @Xalynne_B Wow, your skirt is ve...   \n",
      "3   4       en  @AurelieGuiboud Incredible!  Beautiful!But I l...   \n",
      "4   5       en  i find it extremely hard to believe that kelly...   \n",
      "5   6       en  @Smithcouple971 Hello....m raj....m with good ...   \n",
      "6   7       en  @Texas17761 @MomsDemand True story: Me to 18 y...   \n",
      "7   8       en  Head coach Caroline Ouellette is excited to sh...   \n",
      "8   9       en  @BankofIndia_IN Devli Branch , New Delhi shoul...   \n",
      "9  10       en  Bravo to this woman. No matter what you believ...   \n",
      "\n",
      "  task1_soft_one_hot              task2_soft_one_hot  \n",
      "0         [0.0, 1.0]  [0.0, 1.0, 0.0, 0.0, 0.0, 0.0]  \n",
      "1         [1.0, 0.0]  [1.0, 0.0, 0.0, 0.0, 0.0, 0.0]  \n",
      "2         [0.0, 1.0]  [0.0, 0.0, 0.0, 1.0, 0.0, 0.0]  \n",
      "3         [1.0, 0.0]  [1.0, 0.0, 0.0, 0.0, 0.0, 0.0]  \n",
      "4         [1.0, 0.0]  [1.0, 0.0, 0.0, 0.0, 0.0, 0.0]  \n",
      "5         [0.0, 1.0]  [0.0, 0.0, 0.0, 0.0, 1.0, 0.0]  \n",
      "6         [1.0, 0.0]  [1.0, 0.0, 0.0, 0.0, 0.0, 0.0]  \n",
      "7         [1.0, 0.0]  [1.0, 0.0, 0.0, 0.0, 0.0, 0.0]  \n",
      "8         [1.0, 0.0]  [1.0, 0.0, 0.0, 0.0, 0.0, 0.0]  \n",
      "9         [1.0, 0.0]  [1.0, 0.0, 0.0, 0.0, 0.0, 0.0]  \n",
      "Preprocessed Data:\n",
      "0    she calls herself \"anti-feminazi\" how about sh...\n",
      "1    now, back to these women, the brave and the be...\n",
      "2    @curvybandida @xalynne_b wow, your skirt is ve...\n",
      "3    @aurelieguiboud incredible!  beautiful!but i l...\n",
      "4    i find it extremely hard to believe that kelly...\n",
      "5    @smithcouple971 hello....m raj....m with good ...\n",
      "6    @texas17761 @momsdemand true story: me to 18 y...\n",
      "7    head coach caroline ouellette is excited to sh...\n",
      "8    @bankofindia_in devli branch , new delhi shoul...\n",
      "9    bravo to this woman. no matter what you believ...\n",
      "Name: text, dtype: object\n"
     ]
    }
   ],
   "execution_count": 15
  }
 ],
 "metadata": {
  "kernelspec": {
   "display_name": "Python 3",
   "language": "python",
   "name": "python3"
  },
  "language_info": {
   "codemirror_mode": {
    "name": "ipython",
    "version": 2
   },
   "file_extension": ".py",
   "mimetype": "text/x-python",
   "name": "python",
   "nbconvert_exporter": "python",
   "pygments_lexer": "ipython2",
   "version": "2.7.6"
  }
 },
 "nbformat": 4,
 "nbformat_minor": 5
}

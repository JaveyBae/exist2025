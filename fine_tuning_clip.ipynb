{
  "nbformat": 4,
  "nbformat_minor": 0,
  "metadata": {
    "colab": {
      "provenance": [],
      "gpuType": "T4",
      "authorship_tag": "ABX9TyOa+HNgyHCF3ON+iBb00rej",
      "include_colab_link": true
    },
    "kernelspec": {
      "name": "python3",
      "display_name": "Python 3"
    },
    "language_info": {
      "name": "python"
    },
    "accelerator": "GPU"
  },
  "cells": [
    {
      "cell_type": "markdown",
      "metadata": {
        "id": "view-in-github",
        "colab_type": "text"
      },
      "source": [
        "<a href=\"https://colab.research.google.com/github/JaveyBae/exist2025/blob/main/fine_tuning_clip.ipynb\" target=\"_parent\"><img src=\"https://colab.research.google.com/assets/colab-badge.svg\" alt=\"Open In Colab\"/></a>"
      ]
    },
    {
      "cell_type": "code",
      "source": [
        "# 1. Mount Google Drive\n",
        "from google.colab import drive\n",
        "drive.mount('/content/drive')\n",
        "\n",
        "# 2. Unzip the file\n",
        "import zipfile\n",
        "import os\n",
        "\n",
        "# Specify the zip file path (modify according to your actual path)\n",
        "zip_path = '/content/drive/MyDrive/memes.zip'\n",
        "extract_dir = '/content/'  # Extract to Colab local storage (faster access)\n",
        "\n",
        "# Create extraction directory\n",
        "os.makedirs(extract_dir, exist_ok=True)\n",
        "\n",
        "# Extract the zip file\n",
        "with zipfile.ZipFile(zip_path, 'r') as zip_ref:\n",
        "    zip_ref.extractall(extract_dir)\n",
        "\n",
        "print(f\"✅ Extraction complete. Files are located at: {extract_dir}\")\n"
      ],
      "metadata": {
        "colab": {
          "base_uri": "https://localhost:8080/"
        },
        "id": "OVwzsZTZAdrE",
        "outputId": "d6185f72-5501-4de6-f77d-d410bd47b3be"
      },
      "execution_count": 42,
      "outputs": [
        {
          "output_type": "stream",
          "name": "stdout",
          "text": [
            "Drive already mounted at /content/drive; to attempt to forcibly remount, call drive.mount(\"/content/drive\", force_remount=True).\n",
            "✅ Extraction complete. Files are located at: /content/\n"
          ]
        }
      ]
    },
    {
      "cell_type": "code",
      "source": [
        "!pip install -U sentence-transformers\n",
        "\n",
        "import pandas as pd\n",
        "import torch\n",
        "from torch import nn\n",
        "from torch.utils.data import Dataset, DataLoader\n",
        "from sentence_transformers import SentenceTransformer\n",
        "from PIL import Image\n",
        "from tqdm import tqdm\n",
        "\n",
        "device = \"cuda\" if torch.cuda.is_available() else \"cpu\"\n",
        "print(f\"Using device: {device}\")"
      ],
      "metadata": {
        "colab": {
          "base_uri": "https://localhost:8080/"
        },
        "id": "WgTXJZlpQSns",
        "outputId": "477fc64a-db9f-4a60-90cb-002b399fd034"
      },
      "execution_count": 43,
      "outputs": [
        {
          "output_type": "stream",
          "name": "stdout",
          "text": [
            "Requirement already satisfied: sentence-transformers in /usr/local/lib/python3.12/dist-packages (5.1.1)\n",
            "Requirement already satisfied: transformers<5.0.0,>=4.41.0 in /usr/local/lib/python3.12/dist-packages (from sentence-transformers) (4.57.0)\n",
            "Requirement already satisfied: tqdm in /usr/local/lib/python3.12/dist-packages (from sentence-transformers) (4.67.1)\n",
            "Requirement already satisfied: torch>=1.11.0 in /usr/local/lib/python3.12/dist-packages (from sentence-transformers) (2.8.0+cu126)\n",
            "Requirement already satisfied: scikit-learn in /usr/local/lib/python3.12/dist-packages (from sentence-transformers) (1.6.1)\n",
            "Requirement already satisfied: scipy in /usr/local/lib/python3.12/dist-packages (from sentence-transformers) (1.16.2)\n",
            "Requirement already satisfied: huggingface-hub>=0.20.0 in /usr/local/lib/python3.12/dist-packages (from sentence-transformers) (0.35.3)\n",
            "Requirement already satisfied: Pillow in /usr/local/lib/python3.12/dist-packages (from sentence-transformers) (11.3.0)\n",
            "Requirement already satisfied: typing_extensions>=4.5.0 in /usr/local/lib/python3.12/dist-packages (from sentence-transformers) (4.15.0)\n",
            "Requirement already satisfied: filelock in /usr/local/lib/python3.12/dist-packages (from huggingface-hub>=0.20.0->sentence-transformers) (3.20.0)\n",
            "Requirement already satisfied: fsspec>=2023.5.0 in /usr/local/lib/python3.12/dist-packages (from huggingface-hub>=0.20.0->sentence-transformers) (2025.3.0)\n",
            "Requirement already satisfied: packaging>=20.9 in /usr/local/lib/python3.12/dist-packages (from huggingface-hub>=0.20.0->sentence-transformers) (25.0)\n",
            "Requirement already satisfied: pyyaml>=5.1 in /usr/local/lib/python3.12/dist-packages (from huggingface-hub>=0.20.0->sentence-transformers) (6.0.3)\n",
            "Requirement already satisfied: requests in /usr/local/lib/python3.12/dist-packages (from huggingface-hub>=0.20.0->sentence-transformers) (2.32.4)\n",
            "Requirement already satisfied: hf-xet<2.0.0,>=1.1.3 in /usr/local/lib/python3.12/dist-packages (from huggingface-hub>=0.20.0->sentence-transformers) (1.1.10)\n",
            "Requirement already satisfied: setuptools in /usr/local/lib/python3.12/dist-packages (from torch>=1.11.0->sentence-transformers) (75.2.0)\n",
            "Requirement already satisfied: sympy>=1.13.3 in /usr/local/lib/python3.12/dist-packages (from torch>=1.11.0->sentence-transformers) (1.13.3)\n",
            "Requirement already satisfied: networkx in /usr/local/lib/python3.12/dist-packages (from torch>=1.11.0->sentence-transformers) (3.5)\n",
            "Requirement already satisfied: jinja2 in /usr/local/lib/python3.12/dist-packages (from torch>=1.11.0->sentence-transformers) (3.1.6)\n",
            "Requirement already satisfied: nvidia-cuda-nvrtc-cu12==12.6.77 in /usr/local/lib/python3.12/dist-packages (from torch>=1.11.0->sentence-transformers) (12.6.77)\n",
            "Requirement already satisfied: nvidia-cuda-runtime-cu12==12.6.77 in /usr/local/lib/python3.12/dist-packages (from torch>=1.11.0->sentence-transformers) (12.6.77)\n",
            "Requirement already satisfied: nvidia-cuda-cupti-cu12==12.6.80 in /usr/local/lib/python3.12/dist-packages (from torch>=1.11.0->sentence-transformers) (12.6.80)\n",
            "Requirement already satisfied: nvidia-cudnn-cu12==9.10.2.21 in /usr/local/lib/python3.12/dist-packages (from torch>=1.11.0->sentence-transformers) (9.10.2.21)\n",
            "Requirement already satisfied: nvidia-cublas-cu12==12.6.4.1 in /usr/local/lib/python3.12/dist-packages (from torch>=1.11.0->sentence-transformers) (12.6.4.1)\n",
            "Requirement already satisfied: nvidia-cufft-cu12==11.3.0.4 in /usr/local/lib/python3.12/dist-packages (from torch>=1.11.0->sentence-transformers) (11.3.0.4)\n",
            "Requirement already satisfied: nvidia-curand-cu12==10.3.7.77 in /usr/local/lib/python3.12/dist-packages (from torch>=1.11.0->sentence-transformers) (10.3.7.77)\n",
            "Requirement already satisfied: nvidia-cusolver-cu12==11.7.1.2 in /usr/local/lib/python3.12/dist-packages (from torch>=1.11.0->sentence-transformers) (11.7.1.2)\n",
            "Requirement already satisfied: nvidia-cusparse-cu12==12.5.4.2 in /usr/local/lib/python3.12/dist-packages (from torch>=1.11.0->sentence-transformers) (12.5.4.2)\n",
            "Requirement already satisfied: nvidia-cusparselt-cu12==0.7.1 in /usr/local/lib/python3.12/dist-packages (from torch>=1.11.0->sentence-transformers) (0.7.1)\n",
            "Requirement already satisfied: nvidia-nccl-cu12==2.27.3 in /usr/local/lib/python3.12/dist-packages (from torch>=1.11.0->sentence-transformers) (2.27.3)\n",
            "Requirement already satisfied: nvidia-nvtx-cu12==12.6.77 in /usr/local/lib/python3.12/dist-packages (from torch>=1.11.0->sentence-transformers) (12.6.77)\n",
            "Requirement already satisfied: nvidia-nvjitlink-cu12==12.6.85 in /usr/local/lib/python3.12/dist-packages (from torch>=1.11.0->sentence-transformers) (12.6.85)\n",
            "Requirement already satisfied: nvidia-cufile-cu12==1.11.1.6 in /usr/local/lib/python3.12/dist-packages (from torch>=1.11.0->sentence-transformers) (1.11.1.6)\n",
            "Requirement already satisfied: triton==3.4.0 in /usr/local/lib/python3.12/dist-packages (from torch>=1.11.0->sentence-transformers) (3.4.0)\n",
            "Requirement already satisfied: numpy>=1.17 in /usr/local/lib/python3.12/dist-packages (from transformers<5.0.0,>=4.41.0->sentence-transformers) (2.0.2)\n",
            "Requirement already satisfied: regex!=2019.12.17 in /usr/local/lib/python3.12/dist-packages (from transformers<5.0.0,>=4.41.0->sentence-transformers) (2024.11.6)\n",
            "Requirement already satisfied: tokenizers<=0.23.0,>=0.22.0 in /usr/local/lib/python3.12/dist-packages (from transformers<5.0.0,>=4.41.0->sentence-transformers) (0.22.1)\n",
            "Requirement already satisfied: safetensors>=0.4.3 in /usr/local/lib/python3.12/dist-packages (from transformers<5.0.0,>=4.41.0->sentence-transformers) (0.6.2)\n",
            "Requirement already satisfied: joblib>=1.2.0 in /usr/local/lib/python3.12/dist-packages (from scikit-learn->sentence-transformers) (1.5.2)\n",
            "Requirement already satisfied: threadpoolctl>=3.1.0 in /usr/local/lib/python3.12/dist-packages (from scikit-learn->sentence-transformers) (3.6.0)\n",
            "Requirement already satisfied: mpmath<1.4,>=1.1.0 in /usr/local/lib/python3.12/dist-packages (from sympy>=1.13.3->torch>=1.11.0->sentence-transformers) (1.3.0)\n",
            "Requirement already satisfied: MarkupSafe>=2.0 in /usr/local/lib/python3.12/dist-packages (from jinja2->torch>=1.11.0->sentence-transformers) (3.0.3)\n",
            "Requirement already satisfied: charset_normalizer<4,>=2 in /usr/local/lib/python3.12/dist-packages (from requests->huggingface-hub>=0.20.0->sentence-transformers) (3.4.3)\n",
            "Requirement already satisfied: idna<4,>=2.5 in /usr/local/lib/python3.12/dist-packages (from requests->huggingface-hub>=0.20.0->sentence-transformers) (3.10)\n",
            "Requirement already satisfied: urllib3<3,>=1.21.1 in /usr/local/lib/python3.12/dist-packages (from requests->huggingface-hub>=0.20.0->sentence-transformers) (2.5.0)\n",
            "Requirement already satisfied: certifi>=2017.4.17 in /usr/local/lib/python3.12/dist-packages (from requests->huggingface-hub>=0.20.0->sentence-transformers) (2025.10.5)\n",
            "Using device: cuda\n"
          ]
        }
      ]
    },
    {
      "cell_type": "markdown",
      "metadata": {
        "id": "8b3baa91"
      },
      "source": [
        "# Task\n",
        "Evaluate the trained multimodal classifier model on a subset of the memes dataset and report the accuracy."
      ]
    },
    {
      "cell_type": "markdown",
      "metadata": {
        "id": "8bf1a9fe"
      },
      "source": [
        "## Load the trained model\n",
        "\n",
        "### Subtask:\n",
        "Load the model state dictionary from the saved file.\n"
      ]
    },
    {
      "cell_type": "markdown",
      "metadata": {
        "id": "1b594cbd"
      },
      "source": [
        "**Reasoning**:\n",
        "Instantiate the model, load the state dictionary, and move the model to the correct device.\n",
        "\n"
      ]
    },
    {
      "cell_type": "markdown",
      "metadata": {
        "id": "a9b70e95"
      },
      "source": [
        "## Prepare evaluation data\n",
        "\n",
        "### Subtask:\n",
        "Prepare evaluation data by creating a new `MemeDataset` and `DataLoader` for a subset of the data.\n"
      ]
    },
    {
      "cell_type": "markdown",
      "metadata": {
        "id": "e9d221b6"
      },
      "source": [
        "**Reasoning**:\n",
        "Prepare evaluation data by creating a new MemeDataset and DataLoader for a subset of the data.\n",
        "\n"
      ]
    },
    {
      "cell_type": "code",
      "metadata": {
        "colab": {
          "base_uri": "https://localhost:8080/"
        },
        "id": "c5a7c45f",
        "outputId": "a7a19ab8-d4f1-439b-d6df-09160653df92"
      },
      "source": [
        "from torch.utils.data import random_split\n",
        "\n",
        "# Create a new instance of the MemeDataset class\n",
        "full_dataset = MemeDataset(csv_file=CSV_PATH, image_dir=IMAGE_DIR)\n",
        "\n",
        "# Determine the sizes for the training and evaluation sets\n",
        "dataset_size = len(full_dataset)\n",
        "eval_size = int(0.2 * dataset_size) # 20% for evaluation\n",
        "train_size = dataset_size - eval_size # Remaining for training\n",
        "\n",
        "# Split the dataset into training and evaluation sets\n",
        "train_dataset, eval_dataset = random_split(full_dataset, [train_size, eval_size])\n",
        "\n",
        "# Create a DataLoader for the evaluation dataset\n",
        "EVAL_BATCH_SIZE = 16 # Or 32, depending on memory\n",
        "eval_loader = DataLoader(eval_dataset, batch_size=EVAL_BATCH_SIZE, shuffle=False, collate_fn=custom_collate_fn)\n",
        "\n",
        "print(f\"Full dataset size: {dataset_size}\")\n",
        "print(f\"Training dataset size: {train_size}\")\n",
        "print(f\"Evaluation dataset size: {eval_size}\")\n",
        "print(\"✅ Evaluation DataLoader created.\")"
      ],
      "execution_count": 31,
      "outputs": [
        {
          "output_type": "stream",
          "name": "stdout",
          "text": [
            "Full dataset size: 4044\n",
            "Training dataset size: 3236\n",
            "Evaluation dataset size: 808\n",
            "✅ Evaluation DataLoader created.\n"
          ]
        }
      ]
    },
    {
      "cell_type": "markdown",
      "metadata": {
        "id": "c2919d9f"
      },
      "source": [
        "## Evaluate the model\n",
        "\n",
        "### Subtask:\n",
        "Iterate through the evaluation DataLoader, get predictions from the model, and calculate accuracy.\n"
      ]
    },
    {
      "cell_type": "markdown",
      "metadata": {
        "id": "735d95f1"
      },
      "source": [
        "**Reasoning**:\n",
        "Iterate through the evaluation DataLoader, get predictions from the model, and calculate accuracy.\n",
        "\n"
      ]
    },
    {
      "cell_type": "markdown",
      "metadata": {
        "id": "96afd616"
      },
      "source": [
        "## Load and split data\n",
        "\n",
        "### Subtask:\n",
        "Load the dataset and split it into training, validation, and test sets using an 8:1:1 ratio.\n"
      ]
    },
    {
      "cell_type": "markdown",
      "metadata": {
        "id": "cdc1d68f"
      },
      "source": [
        "**Reasoning**:\n",
        "Load the CSV, create the dataset, calculate split sizes, and perform the random split.\n",
        "\n"
      ]
    },
    {
      "cell_type": "code",
      "metadata": {
        "colab": {
          "base_uri": "https://localhost:8080/"
        },
        "id": "d7e68361",
        "outputId": "be044810-c153-495d-c3cb-049b88b0fea5"
      },
      "source": [
        "# Load the CSV file\n",
        "dataframe = pd.read_csv(CSV_PATH)\n",
        "\n",
        "# Create the full dataset\n",
        "full_dataset = MemeDataset(csv_file=CSV_PATH, image_dir=IMAGE_DIR)\n",
        "\n",
        "# Calculate dataset sizes for 8:1:1 split\n",
        "dataset_size = len(full_dataset)\n",
        "train_size = int(0.8 * dataset_size)\n",
        "val_size = int(0.1 * dataset_size)\n",
        "test_size = dataset_size - train_size - val_size # Allocate remaining to test\n",
        "\n",
        "# Split the dataset\n",
        "train_dataset, val_dataset, test_dataset = random_split(full_dataset, [train_size, val_size, test_size])\n",
        "\n",
        "print(f\"Full dataset size: {dataset_size}\")\n",
        "print(f\"Training dataset size: {train_size}\")\n",
        "print(f\"Validation dataset size: {val_size}\")\n",
        "print(f\"Test dataset size: {test_size}\")"
      ],
      "execution_count": 33,
      "outputs": [
        {
          "output_type": "stream",
          "name": "stdout",
          "text": [
            "Full dataset size: 4044\n",
            "Training dataset size: 3235\n",
            "Validation dataset size: 404\n",
            "Test dataset size: 405\n"
          ]
        }
      ]
    },
    {
      "cell_type": "markdown",
      "metadata": {
        "id": "529e50f9"
      },
      "source": [
        "## Create dataloaders\n",
        "\n",
        "### Subtask:\n",
        "Create DataLoaders for the training, validation, and test sets.\n"
      ]
    },
    {
      "cell_type": "markdown",
      "metadata": {
        "id": "b608485b"
      },
      "source": [
        "**Reasoning**:\n",
        "Create DataLoaders for the training, validation, and test sets using the defined batch size and the custom collate function.\n",
        "\n"
      ]
    },
    {
      "cell_type": "code",
      "metadata": {
        "colab": {
          "base_uri": "https://localhost:8080/"
        },
        "id": "37328ba5",
        "outputId": "788b91ac-f2e7-438a-8f6c-6b268f985260"
      },
      "source": [
        "# Define batch size\n",
        "BATCH_SIZE = 16 # You can adjust this if needed\n",
        "\n",
        "# Create DataLoaders\n",
        "train_loader = DataLoader(train_dataset, batch_size=BATCH_SIZE, shuffle=True, collate_fn=custom_collate_fn)\n",
        "val_loader = DataLoader(val_dataset, batch_size=BATCH_SIZE, shuffle=False, collate_fn=custom_collate_fn)\n",
        "test_loader = DataLoader(test_dataset, batch_size=BATCH_SIZE, shuffle=False, collate_fn=custom_collate_fn)\n",
        "\n",
        "print(f\"Batch size for DataLoaders: {BATCH_SIZE}\")\n",
        "print(\"✅ DataLoaders for training, validation, and test sets created.\")"
      ],
      "execution_count": 34,
      "outputs": [
        {
          "output_type": "stream",
          "name": "stdout",
          "text": [
            "Batch size for DataLoaders: 16\n",
            "✅ DataLoaders for training, validation, and test sets created.\n"
          ]
        }
      ]
    },
    {
      "cell_type": "markdown",
      "metadata": {
        "id": "0b7d3528"
      },
      "source": [
        "## Define and initialize model\n",
        "\n",
        "### Subtask:\n",
        "Define and initialize the multimodal classifier model.\n"
      ]
    },
    {
      "cell_type": "markdown",
      "metadata": {
        "id": "234cd855"
      },
      "source": [
        "**Reasoning**:\n",
        "Instantiate the MultimodalClassifier model, move it to the device, and print a confirmation message.\n",
        "\n"
      ]
    },
    {
      "cell_type": "markdown",
      "metadata": {
        "id": "64cab28a"
      },
      "source": [
        "## Train the model with validation\n",
        "\n",
        "### Subtask:\n",
        "Train the model on the training set and evaluate it on the validation set during training to monitor performance and detect overfitting.\n"
      ]
    },
    {
      "cell_type": "markdown",
      "metadata": {
        "id": "1e8d7f24"
      },
      "source": [
        "**Reasoning**:\n",
        "Set the model to training mode, define the loss function and optimizer, and then iterate through epochs to train the model on the training data and evaluate on the validation data.\n",
        "\n"
      ]
    },
    {
      "cell_type": "markdown",
      "metadata": {
        "id": "b10d35e1"
      },
      "source": [
        "**Reasoning**:\n",
        "Load the dataset into a pandas DataFrame and display the first few rows and the column names and their data types to understand the data structure.\n",
        "\n"
      ]
    },
    {
      "cell_type": "markdown",
      "metadata": {
        "id": "6d9f5406"
      },
      "source": [
        "**Reasoning**:\n",
        "The previous attempt to load the data failed because the file 'train.csv' was not found. The correct file path is '/data/train.csv'. I will try loading the data again using the correct path.\n",
        "\n"
      ]
    },
    {
      "cell_type": "markdown",
      "metadata": {
        "id": "32f01d9c"
      },
      "source": [
        "**Reasoning**:\n",
        "The dataset was not found in the previous two attempts. I will try loading the dataset from the default path '/kaggle/input/train.csv' which is common in Kaggle environments.\n",
        "\n"
      ]
    },
    {
      "cell_type": "markdown",
      "metadata": {
        "id": "9e46b853"
      },
      "source": [
        "**Reasoning**:\n",
        "The previous attempts to load the data failed. Since the path to the dataset is still unknown, I will try listing the files in the current directory and in the '/kaggle/input/' directory to locate the correct file path for 'train.csv'.\n",
        "\n"
      ]
    },
    {
      "cell_type": "markdown",
      "metadata": {
        "id": "738b7653"
      },
      "source": [
        "**Reasoning**:\n",
        "Based on the file listing, the 'train.csv' file is not in the current directory, '/kaggle/input/', or '/data/'. However, 'processed_data_all_labels.csv' is present in the current directory. It is likely that the dataset for this task is actually 'processed_data_all_labels.csv'. I will load this file into a DataFrame and display its head and info to confirm its structure.\n",
        "\n"
      ]
    },
    {
      "cell_type": "code",
      "metadata": {
        "colab": {
          "base_uri": "https://localhost:8080/",
          "height": 900
        },
        "id": "00276aca",
        "outputId": "78a2530c-ed41-41bf-acd8-8b656b8089b2"
      },
      "source": [
        "# Load the dataset 'processed_data_all_labels.csv'\n",
        "df = pd.read_csv('processed_data_all_labels.csv')\n",
        "\n",
        "# Display the first few rows\n",
        "display(df.head())\n",
        "\n",
        "# Display column names and data types\n",
        "display(df.info())"
      ],
      "execution_count": 37,
      "outputs": [
        {
          "output_type": "display_data",
          "data": {
            "text/plain": [
              "       id lang                                               text  task4_hard  \\\n",
              "0  110001   es  2+2=5 MITO Albert Einstein tenía bajo rendimie...  [1.0, 0.0]   \n",
              "1  110002   es      CUANDO UNA MUJER VA A LUCHAR POR SUS DERECHOS  [1.0, 0.0]   \n",
              "2  110003   es  ІЯ ЕГЕЯ Е MOA ¿El Partido Republicano busca pe...  [0.0, 1.0]   \n",
              "3  110004   es  Paises que \"apoyan\" los derechos de la mujer A...  [1.0, 0.0]   \n",
              "4  110005   es  Ya verás como este 8 de marzo hay uno que te s...  [0.0, 1.0]   \n",
              "\n",
              "         task4_soft  task5_hard        task5_soft                 task6_hard  \\\n",
              "0        [1.0, 0.0]  [1.0, 0.0]        [1.0, 0.0]  [1.0, 0.0, 0.0, 0.0, 0.0]   \n",
              "1        [1.0, 0.0]  [1.0, 0.0]  [0.8333, 0.1667]  [1.0, 1.0, 0.0, 0.0, 0.0]   \n",
              "2  [0.3333, 0.6667]  [1.0, 0.0]     [0.3333, 0.0]  [0.0, 0.0, 0.0, 0.0, 0.0]   \n",
              "3        [0.5, 0.5]  [0.0, 1.0]        [0.0, 0.5]  [0.0, 0.0, 0.0, 0.0, 0.0]   \n",
              "4  [0.3333, 0.6667]  [0.0, 1.0]  [0.1667, 0.1667]  [0.0, 0.0, 0.0, 0.0, 0.0]   \n",
              "\n",
              "                           task6_soft  \n",
              "0     [1.0, 0.1667, 0.0, 0.0, 0.1667]  \n",
              "1  [0.6667, 0.6667, 0.0, 0.0, 0.1667]  \n",
              "2  [0.0, 0.1667, 0.1667, 0.0, 0.3333]  \n",
              "3     [0.3333, 0.1667, 0.0, 0.0, 0.0]  \n",
              "4        [0.3333, 0.0, 0.0, 0.0, 0.0]  "
            ],
            "text/html": [
              "\n",
              "  <div id=\"df-28fbbec5-61d0-4cb2-91a4-b7d490d0b3b9\" class=\"colab-df-container\">\n",
              "    <div>\n",
              "<style scoped>\n",
              "    .dataframe tbody tr th:only-of-type {\n",
              "        vertical-align: middle;\n",
              "    }\n",
              "\n",
              "    .dataframe tbody tr th {\n",
              "        vertical-align: top;\n",
              "    }\n",
              "\n",
              "    .dataframe thead th {\n",
              "        text-align: right;\n",
              "    }\n",
              "</style>\n",
              "<table border=\"1\" class=\"dataframe\">\n",
              "  <thead>\n",
              "    <tr style=\"text-align: right;\">\n",
              "      <th></th>\n",
              "      <th>id</th>\n",
              "      <th>lang</th>\n",
              "      <th>text</th>\n",
              "      <th>task4_hard</th>\n",
              "      <th>task4_soft</th>\n",
              "      <th>task5_hard</th>\n",
              "      <th>task5_soft</th>\n",
              "      <th>task6_hard</th>\n",
              "      <th>task6_soft</th>\n",
              "    </tr>\n",
              "  </thead>\n",
              "  <tbody>\n",
              "    <tr>\n",
              "      <th>0</th>\n",
              "      <td>110001</td>\n",
              "      <td>es</td>\n",
              "      <td>2+2=5 MITO Albert Einstein tenía bajo rendimie...</td>\n",
              "      <td>[1.0, 0.0]</td>\n",
              "      <td>[1.0, 0.0]</td>\n",
              "      <td>[1.0, 0.0]</td>\n",
              "      <td>[1.0, 0.0]</td>\n",
              "      <td>[1.0, 0.0, 0.0, 0.0, 0.0]</td>\n",
              "      <td>[1.0, 0.1667, 0.0, 0.0, 0.1667]</td>\n",
              "    </tr>\n",
              "    <tr>\n",
              "      <th>1</th>\n",
              "      <td>110002</td>\n",
              "      <td>es</td>\n",
              "      <td>CUANDO UNA MUJER VA A LUCHAR POR SUS DERECHOS</td>\n",
              "      <td>[1.0, 0.0]</td>\n",
              "      <td>[1.0, 0.0]</td>\n",
              "      <td>[1.0, 0.0]</td>\n",
              "      <td>[0.8333, 0.1667]</td>\n",
              "      <td>[1.0, 1.0, 0.0, 0.0, 0.0]</td>\n",
              "      <td>[0.6667, 0.6667, 0.0, 0.0, 0.1667]</td>\n",
              "    </tr>\n",
              "    <tr>\n",
              "      <th>2</th>\n",
              "      <td>110003</td>\n",
              "      <td>es</td>\n",
              "      <td>ІЯ ЕГЕЯ Е MOA ¿El Partido Republicano busca pe...</td>\n",
              "      <td>[0.0, 1.0]</td>\n",
              "      <td>[0.3333, 0.6667]</td>\n",
              "      <td>[1.0, 0.0]</td>\n",
              "      <td>[0.3333, 0.0]</td>\n",
              "      <td>[0.0, 0.0, 0.0, 0.0, 0.0]</td>\n",
              "      <td>[0.0, 0.1667, 0.1667, 0.0, 0.3333]</td>\n",
              "    </tr>\n",
              "    <tr>\n",
              "      <th>3</th>\n",
              "      <td>110004</td>\n",
              "      <td>es</td>\n",
              "      <td>Paises que \"apoyan\" los derechos de la mujer A...</td>\n",
              "      <td>[1.0, 0.0]</td>\n",
              "      <td>[0.5, 0.5]</td>\n",
              "      <td>[0.0, 1.0]</td>\n",
              "      <td>[0.0, 0.5]</td>\n",
              "      <td>[0.0, 0.0, 0.0, 0.0, 0.0]</td>\n",
              "      <td>[0.3333, 0.1667, 0.0, 0.0, 0.0]</td>\n",
              "    </tr>\n",
              "    <tr>\n",
              "      <th>4</th>\n",
              "      <td>110005</td>\n",
              "      <td>es</td>\n",
              "      <td>Ya verás como este 8 de marzo hay uno que te s...</td>\n",
              "      <td>[0.0, 1.0]</td>\n",
              "      <td>[0.3333, 0.6667]</td>\n",
              "      <td>[0.0, 1.0]</td>\n",
              "      <td>[0.1667, 0.1667]</td>\n",
              "      <td>[0.0, 0.0, 0.0, 0.0, 0.0]</td>\n",
              "      <td>[0.3333, 0.0, 0.0, 0.0, 0.0]</td>\n",
              "    </tr>\n",
              "  </tbody>\n",
              "</table>\n",
              "</div>\n",
              "    <div class=\"colab-df-buttons\">\n",
              "\n",
              "  <div class=\"colab-df-container\">\n",
              "    <button class=\"colab-df-convert\" onclick=\"convertToInteractive('df-28fbbec5-61d0-4cb2-91a4-b7d490d0b3b9')\"\n",
              "            title=\"Convert this dataframe to an interactive table.\"\n",
              "            style=\"display:none;\">\n",
              "\n",
              "  <svg xmlns=\"http://www.w3.org/2000/svg\" height=\"24px\" viewBox=\"0 -960 960 960\">\n",
              "    <path d=\"M120-120v-720h720v720H120Zm60-500h600v-160H180v160Zm220 220h160v-160H400v160Zm0 220h160v-160H400v160ZM180-400h160v-160H180v160Zm440 0h160v-160H620v160ZM180-180h160v-160H180v160Zm440 0h160v-160H620v160Z\"/>\n",
              "  </svg>\n",
              "    </button>\n",
              "\n",
              "  <style>\n",
              "    .colab-df-container {\n",
              "      display:flex;\n",
              "      gap: 12px;\n",
              "    }\n",
              "\n",
              "    .colab-df-convert {\n",
              "      background-color: #E8F0FE;\n",
              "      border: none;\n",
              "      border-radius: 50%;\n",
              "      cursor: pointer;\n",
              "      display: none;\n",
              "      fill: #1967D2;\n",
              "      height: 32px;\n",
              "      padding: 0 0 0 0;\n",
              "      width: 32px;\n",
              "    }\n",
              "\n",
              "    .colab-df-convert:hover {\n",
              "      background-color: #E2EBFA;\n",
              "      box-shadow: 0px 1px 2px rgba(60, 64, 67, 0.3), 0px 1px 3px 1px rgba(60, 64, 67, 0.15);\n",
              "      fill: #174EA6;\n",
              "    }\n",
              "\n",
              "    .colab-df-buttons div {\n",
              "      margin-bottom: 4px;\n",
              "    }\n",
              "\n",
              "    [theme=dark] .colab-df-convert {\n",
              "      background-color: #3B4455;\n",
              "      fill: #D2E3FC;\n",
              "    }\n",
              "\n",
              "    [theme=dark] .colab-df-convert:hover {\n",
              "      background-color: #434B5C;\n",
              "      box-shadow: 0px 1px 3px 1px rgba(0, 0, 0, 0.15);\n",
              "      filter: drop-shadow(0px 1px 2px rgba(0, 0, 0, 0.3));\n",
              "      fill: #FFFFFF;\n",
              "    }\n",
              "  </style>\n",
              "\n",
              "    <script>\n",
              "      const buttonEl =\n",
              "        document.querySelector('#df-28fbbec5-61d0-4cb2-91a4-b7d490d0b3b9 button.colab-df-convert');\n",
              "      buttonEl.style.display =\n",
              "        google.colab.kernel.accessAllowed ? 'block' : 'none';\n",
              "\n",
              "      async function convertToInteractive(key) {\n",
              "        const element = document.querySelector('#df-28fbbec5-61d0-4cb2-91a4-b7d490d0b3b9');\n",
              "        const dataTable =\n",
              "          await google.colab.kernel.invokeFunction('convertToInteractive',\n",
              "                                                    [key], {});\n",
              "        if (!dataTable) return;\n",
              "\n",
              "        const docLinkHtml = 'Like what you see? Visit the ' +\n",
              "          '<a target=\"_blank\" href=https://colab.research.google.com/notebooks/data_table.ipynb>data table notebook</a>'\n",
              "          + ' to learn more about interactive tables.';\n",
              "        element.innerHTML = '';\n",
              "        dataTable['output_type'] = 'display_data';\n",
              "        await google.colab.output.renderOutput(dataTable, element);\n",
              "        const docLink = document.createElement('div');\n",
              "        docLink.innerHTML = docLinkHtml;\n",
              "        element.appendChild(docLink);\n",
              "      }\n",
              "    </script>\n",
              "  </div>\n",
              "\n",
              "\n",
              "    <div id=\"df-b3f18810-b8c1-4e70-8624-3cc2da2b9dde\">\n",
              "      <button class=\"colab-df-quickchart\" onclick=\"quickchart('df-b3f18810-b8c1-4e70-8624-3cc2da2b9dde')\"\n",
              "                title=\"Suggest charts\"\n",
              "                style=\"display:none;\">\n",
              "\n",
              "<svg xmlns=\"http://www.w3.org/2000/svg\" height=\"24px\"viewBox=\"0 0 24 24\"\n",
              "     width=\"24px\">\n",
              "    <g>\n",
              "        <path d=\"M19 3H5c-1.1 0-2 .9-2 2v14c0 1.1.9 2 2 2h14c1.1 0 2-.9 2-2V5c0-1.1-.9-2-2-2zM9 17H7v-7h2v7zm4 0h-2V7h2v10zm4 0h-2v-4h2v4z\"/>\n",
              "    </g>\n",
              "</svg>\n",
              "      </button>\n",
              "\n",
              "<style>\n",
              "  .colab-df-quickchart {\n",
              "      --bg-color: #E8F0FE;\n",
              "      --fill-color: #1967D2;\n",
              "      --hover-bg-color: #E2EBFA;\n",
              "      --hover-fill-color: #174EA6;\n",
              "      --disabled-fill-color: #AAA;\n",
              "      --disabled-bg-color: #DDD;\n",
              "  }\n",
              "\n",
              "  [theme=dark] .colab-df-quickchart {\n",
              "      --bg-color: #3B4455;\n",
              "      --fill-color: #D2E3FC;\n",
              "      --hover-bg-color: #434B5C;\n",
              "      --hover-fill-color: #FFFFFF;\n",
              "      --disabled-bg-color: #3B4455;\n",
              "      --disabled-fill-color: #666;\n",
              "  }\n",
              "\n",
              "  .colab-df-quickchart {\n",
              "    background-color: var(--bg-color);\n",
              "    border: none;\n",
              "    border-radius: 50%;\n",
              "    cursor: pointer;\n",
              "    display: none;\n",
              "    fill: var(--fill-color);\n",
              "    height: 32px;\n",
              "    padding: 0;\n",
              "    width: 32px;\n",
              "  }\n",
              "\n",
              "  .colab-df-quickchart:hover {\n",
              "    background-color: var(--hover-bg-color);\n",
              "    box-shadow: 0 1px 2px rgba(60, 64, 67, 0.3), 0 1px 3px 1px rgba(60, 64, 67, 0.15);\n",
              "    fill: var(--button-hover-fill-color);\n",
              "  }\n",
              "\n",
              "  .colab-df-quickchart-complete:disabled,\n",
              "  .colab-df-quickchart-complete:disabled:hover {\n",
              "    background-color: var(--disabled-bg-color);\n",
              "    fill: var(--disabled-fill-color);\n",
              "    box-shadow: none;\n",
              "  }\n",
              "\n",
              "  .colab-df-spinner {\n",
              "    border: 2px solid var(--fill-color);\n",
              "    border-color: transparent;\n",
              "    border-bottom-color: var(--fill-color);\n",
              "    animation:\n",
              "      spin 1s steps(1) infinite;\n",
              "  }\n",
              "\n",
              "  @keyframes spin {\n",
              "    0% {\n",
              "      border-color: transparent;\n",
              "      border-bottom-color: var(--fill-color);\n",
              "      border-left-color: var(--fill-color);\n",
              "    }\n",
              "    20% {\n",
              "      border-color: transparent;\n",
              "      border-left-color: var(--fill-color);\n",
              "      border-top-color: var(--fill-color);\n",
              "    }\n",
              "    30% {\n",
              "      border-color: transparent;\n",
              "      border-left-color: var(--fill-color);\n",
              "      border-top-color: var(--fill-color);\n",
              "      border-right-color: var(--fill-color);\n",
              "    }\n",
              "    40% {\n",
              "      border-color: transparent;\n",
              "      border-right-color: var(--fill-color);\n",
              "      border-top-color: var(--fill-color);\n",
              "    }\n",
              "    60% {\n",
              "      border-color: transparent;\n",
              "      border-right-color: var(--fill-color);\n",
              "    }\n",
              "    80% {\n",
              "      border-color: transparent;\n",
              "      border-right-color: var(--fill-color);\n",
              "      border-bottom-color: var(--fill-color);\n",
              "    }\n",
              "    90% {\n",
              "      border-color: transparent;\n",
              "      border-bottom-color: var(--fill-color);\n",
              "    }\n",
              "  }\n",
              "</style>\n",
              "\n",
              "      <script>\n",
              "        async function quickchart(key) {\n",
              "          const quickchartButtonEl =\n",
              "            document.querySelector('#' + key + ' button');\n",
              "          quickchartButtonEl.disabled = true;  // To prevent multiple clicks.\n",
              "          quickchartButtonEl.classList.add('colab-df-spinner');\n",
              "          try {\n",
              "            const charts = await google.colab.kernel.invokeFunction(\n",
              "                'suggestCharts', [key], {});\n",
              "          } catch (error) {\n",
              "            console.error('Error during call to suggestCharts:', error);\n",
              "          }\n",
              "          quickchartButtonEl.classList.remove('colab-df-spinner');\n",
              "          quickchartButtonEl.classList.add('colab-df-quickchart-complete');\n",
              "        }\n",
              "        (() => {\n",
              "          let quickchartButtonEl =\n",
              "            document.querySelector('#df-b3f18810-b8c1-4e70-8624-3cc2da2b9dde button');\n",
              "          quickchartButtonEl.style.display =\n",
              "            google.colab.kernel.accessAllowed ? 'block' : 'none';\n",
              "        })();\n",
              "      </script>\n",
              "    </div>\n",
              "\n",
              "    </div>\n",
              "  </div>\n"
            ],
            "application/vnd.google.colaboratory.intrinsic+json": {
              "type": "dataframe",
              "summary": "{\n  \"name\": \"display(df\",\n  \"rows\": 5,\n  \"fields\": [\n    {\n      \"column\": \"id\",\n      \"properties\": {\n        \"dtype\": \"number\",\n        \"std\": 1,\n        \"min\": 110001,\n        \"max\": 110005,\n        \"num_unique_values\": 5,\n        \"samples\": [\n          110002,\n          110005,\n          110003\n        ],\n        \"semantic_type\": \"\",\n        \"description\": \"\"\n      }\n    },\n    {\n      \"column\": \"lang\",\n      \"properties\": {\n        \"dtype\": \"category\",\n        \"num_unique_values\": 1,\n        \"samples\": [\n          \"es\"\n        ],\n        \"semantic_type\": \"\",\n        \"description\": \"\"\n      }\n    },\n    {\n      \"column\": \"text\",\n      \"properties\": {\n        \"dtype\": \"string\",\n        \"num_unique_values\": 5,\n        \"samples\": [\n          \"CUANDO UNA MUJER VA A LUCHAR POR SUS DERECHOS\"\n        ],\n        \"semantic_type\": \"\",\n        \"description\": \"\"\n      }\n    },\n    {\n      \"column\": \"task4_hard\",\n      \"properties\": {\n        \"dtype\": \"category\",\n        \"num_unique_values\": 2,\n        \"samples\": [\n          \"[0.0, 1.0]\"\n        ],\n        \"semantic_type\": \"\",\n        \"description\": \"\"\n      }\n    },\n    {\n      \"column\": \"task4_soft\",\n      \"properties\": {\n        \"dtype\": \"string\",\n        \"num_unique_values\": 3,\n        \"samples\": [\n          \"[1.0, 0.0]\"\n        ],\n        \"semantic_type\": \"\",\n        \"description\": \"\"\n      }\n    },\n    {\n      \"column\": \"task5_hard\",\n      \"properties\": {\n        \"dtype\": \"category\",\n        \"num_unique_values\": 2,\n        \"samples\": [\n          \"[0.0, 1.0]\"\n        ],\n        \"semantic_type\": \"\",\n        \"description\": \"\"\n      }\n    },\n    {\n      \"column\": \"task5_soft\",\n      \"properties\": {\n        \"dtype\": \"string\",\n        \"num_unique_values\": 5,\n        \"samples\": [\n          \"[0.8333, 0.1667]\"\n        ],\n        \"semantic_type\": \"\",\n        \"description\": \"\"\n      }\n    },\n    {\n      \"column\": \"task6_hard\",\n      \"properties\": {\n        \"dtype\": \"string\",\n        \"num_unique_values\": 3,\n        \"samples\": [\n          \"[1.0, 0.0, 0.0, 0.0, 0.0]\"\n        ],\n        \"semantic_type\": \"\",\n        \"description\": \"\"\n      }\n    },\n    {\n      \"column\": \"task6_soft\",\n      \"properties\": {\n        \"dtype\": \"string\",\n        \"num_unique_values\": 5,\n        \"samples\": [\n          \"[0.6667, 0.6667, 0.0, 0.0, 0.1667]\"\n        ],\n        \"semantic_type\": \"\",\n        \"description\": \"\"\n      }\n    }\n  ]\n}"
            }
          },
          "metadata": {}
        },
        {
          "output_type": "stream",
          "name": "stdout",
          "text": [
            "<class 'pandas.core.frame.DataFrame'>\n",
            "RangeIndex: 4044 entries, 0 to 4043\n",
            "Data columns (total 9 columns):\n",
            " #   Column      Non-Null Count  Dtype \n",
            "---  ------      --------------  ----- \n",
            " 0   id          4044 non-null   int64 \n",
            " 1   lang        4044 non-null   object\n",
            " 2   text        4044 non-null   object\n",
            " 3   task4_hard  4044 non-null   object\n",
            " 4   task4_soft  4044 non-null   object\n",
            " 5   task5_hard  4044 non-null   object\n",
            " 6   task5_soft  4044 non-null   object\n",
            " 7   task6_hard  4044 non-null   object\n",
            " 8   task6_soft  4044 non-null   object\n",
            "dtypes: int64(1), object(8)\n",
            "memory usage: 284.5+ KB\n"
          ]
        },
        {
          "output_type": "display_data",
          "data": {
            "text/plain": [
              "None"
            ]
          },
          "metadata": {}
        }
      ]
    },
    {
      "cell_type": "markdown",
      "metadata": {
        "id": "e48229d6"
      },
      "source": [
        "**Reasoning**:\n",
        "The previous step successfully loaded the data into a DataFrame. The 'task4_hard' column, which is relevant to the subtask, is of type 'object' and contains list-like strings. To use this column for analysis, it needs to be converted to a more usable format. I will convert the 'task4_hard' column from string representation of a list to an actual list of floats, then extract the first element of each list, which represents the label for task4_hard, and convert it to an integer type for further analysis.\n",
        "\n"
      ]
    },
    {
      "cell_type": "code",
      "metadata": {
        "colab": {
          "base_uri": "https://localhost:8080/",
          "height": 370
        },
        "id": "34302b86",
        "outputId": "7a0c5d8a-bc01-46e9-9b23-026636be41dc"
      },
      "source": [
        "import ast\n",
        "\n",
        "# Convert the 'task4_hard' column from string representation of list to actual list\n",
        "df['task4_hard'] = df['task4_hard'].apply(ast.literal_eval)\n",
        "\n",
        "# Extract the first element of the list and convert to integer\n",
        "df['task4_hard_label'] = df['task4_hard'].apply(lambda x: int(x[0]))\n",
        "\n",
        "# Display the first few rows with the new column\n",
        "display(df[['task4_hard', 'task4_hard_label']].head())\n",
        "\n",
        "# Display the data type of the new column\n",
        "display(df['task4_hard_label'].info())"
      ],
      "execution_count": 38,
      "outputs": [
        {
          "output_type": "display_data",
          "data": {
            "text/plain": [
              "   task4_hard  task4_hard_label\n",
              "0  [1.0, 0.0]                 1\n",
              "1  [1.0, 0.0]                 1\n",
              "2  [0.0, 1.0]                 0\n",
              "3  [1.0, 0.0]                 1\n",
              "4  [0.0, 1.0]                 0"
            ],
            "text/html": [
              "\n",
              "  <div id=\"df-fc0bdf8e-2c21-451b-a8ac-9156e2ed7d77\" class=\"colab-df-container\">\n",
              "    <div>\n",
              "<style scoped>\n",
              "    .dataframe tbody tr th:only-of-type {\n",
              "        vertical-align: middle;\n",
              "    }\n",
              "\n",
              "    .dataframe tbody tr th {\n",
              "        vertical-align: top;\n",
              "    }\n",
              "\n",
              "    .dataframe thead th {\n",
              "        text-align: right;\n",
              "    }\n",
              "</style>\n",
              "<table border=\"1\" class=\"dataframe\">\n",
              "  <thead>\n",
              "    <tr style=\"text-align: right;\">\n",
              "      <th></th>\n",
              "      <th>task4_hard</th>\n",
              "      <th>task4_hard_label</th>\n",
              "    </tr>\n",
              "  </thead>\n",
              "  <tbody>\n",
              "    <tr>\n",
              "      <th>0</th>\n",
              "      <td>[1.0, 0.0]</td>\n",
              "      <td>1</td>\n",
              "    </tr>\n",
              "    <tr>\n",
              "      <th>1</th>\n",
              "      <td>[1.0, 0.0]</td>\n",
              "      <td>1</td>\n",
              "    </tr>\n",
              "    <tr>\n",
              "      <th>2</th>\n",
              "      <td>[0.0, 1.0]</td>\n",
              "      <td>0</td>\n",
              "    </tr>\n",
              "    <tr>\n",
              "      <th>3</th>\n",
              "      <td>[1.0, 0.0]</td>\n",
              "      <td>1</td>\n",
              "    </tr>\n",
              "    <tr>\n",
              "      <th>4</th>\n",
              "      <td>[0.0, 1.0]</td>\n",
              "      <td>0</td>\n",
              "    </tr>\n",
              "  </tbody>\n",
              "</table>\n",
              "</div>\n",
              "    <div class=\"colab-df-buttons\">\n",
              "\n",
              "  <div class=\"colab-df-container\">\n",
              "    <button class=\"colab-df-convert\" onclick=\"convertToInteractive('df-fc0bdf8e-2c21-451b-a8ac-9156e2ed7d77')\"\n",
              "            title=\"Convert this dataframe to an interactive table.\"\n",
              "            style=\"display:none;\">\n",
              "\n",
              "  <svg xmlns=\"http://www.w3.org/2000/svg\" height=\"24px\" viewBox=\"0 -960 960 960\">\n",
              "    <path d=\"M120-120v-720h720v720H120Zm60-500h600v-160H180v160Zm220 220h160v-160H400v160Zm0 220h160v-160H400v160ZM180-400h160v-160H180v160Zm440 0h160v-160H620v160ZM180-180h160v-160H180v160Zm440 0h160v-160H620v160Z\"/>\n",
              "  </svg>\n",
              "    </button>\n",
              "\n",
              "  <style>\n",
              "    .colab-df-container {\n",
              "      display:flex;\n",
              "      gap: 12px;\n",
              "    }\n",
              "\n",
              "    .colab-df-convert {\n",
              "      background-color: #E8F0FE;\n",
              "      border: none;\n",
              "      border-radius: 50%;\n",
              "      cursor: pointer;\n",
              "      display: none;\n",
              "      fill: #1967D2;\n",
              "      height: 32px;\n",
              "      padding: 0 0 0 0;\n",
              "      width: 32px;\n",
              "    }\n",
              "\n",
              "    .colab-df-convert:hover {\n",
              "      background-color: #E2EBFA;\n",
              "      box-shadow: 0px 1px 2px rgba(60, 64, 67, 0.3), 0px 1px 3px 1px rgba(60, 64, 67, 0.15);\n",
              "      fill: #174EA6;\n",
              "    }\n",
              "\n",
              "    .colab-df-buttons div {\n",
              "      margin-bottom: 4px;\n",
              "    }\n",
              "\n",
              "    [theme=dark] .colab-df-convert {\n",
              "      background-color: #3B4455;\n",
              "      fill: #D2E3FC;\n",
              "    }\n",
              "\n",
              "    [theme=dark] .colab-df-convert:hover {\n",
              "      background-color: #434B5C;\n",
              "      box-shadow: 0px 1px 3px 1px rgba(0, 0, 0, 0.15);\n",
              "      filter: drop-shadow(0px 1px 2px rgba(0, 0, 0, 0.3));\n",
              "      fill: #FFFFFF;\n",
              "    }\n",
              "  </style>\n",
              "\n",
              "    <script>\n",
              "      const buttonEl =\n",
              "        document.querySelector('#df-fc0bdf8e-2c21-451b-a8ac-9156e2ed7d77 button.colab-df-convert');\n",
              "      buttonEl.style.display =\n",
              "        google.colab.kernel.accessAllowed ? 'block' : 'none';\n",
              "\n",
              "      async function convertToInteractive(key) {\n",
              "        const element = document.querySelector('#df-fc0bdf8e-2c21-451b-a8ac-9156e2ed7d77');\n",
              "        const dataTable =\n",
              "          await google.colab.kernel.invokeFunction('convertToInteractive',\n",
              "                                                    [key], {});\n",
              "        if (!dataTable) return;\n",
              "\n",
              "        const docLinkHtml = 'Like what you see? Visit the ' +\n",
              "          '<a target=\"_blank\" href=https://colab.research.google.com/notebooks/data_table.ipynb>data table notebook</a>'\n",
              "          + ' to learn more about interactive tables.';\n",
              "        element.innerHTML = '';\n",
              "        dataTable['output_type'] = 'display_data';\n",
              "        await google.colab.output.renderOutput(dataTable, element);\n",
              "        const docLink = document.createElement('div');\n",
              "        docLink.innerHTML = docLinkHtml;\n",
              "        element.appendChild(docLink);\n",
              "      }\n",
              "    </script>\n",
              "  </div>\n",
              "\n",
              "\n",
              "    <div id=\"df-e8dcdd8e-b780-4143-959f-6ea591533857\">\n",
              "      <button class=\"colab-df-quickchart\" onclick=\"quickchart('df-e8dcdd8e-b780-4143-959f-6ea591533857')\"\n",
              "                title=\"Suggest charts\"\n",
              "                style=\"display:none;\">\n",
              "\n",
              "<svg xmlns=\"http://www.w3.org/2000/svg\" height=\"24px\"viewBox=\"0 0 24 24\"\n",
              "     width=\"24px\">\n",
              "    <g>\n",
              "        <path d=\"M19 3H5c-1.1 0-2 .9-2 2v14c0 1.1.9 2 2 2h14c1.1 0 2-.9 2-2V5c0-1.1-.9-2-2-2zM9 17H7v-7h2v7zm4 0h-2V7h2v10zm4 0h-2v-4h2v4z\"/>\n",
              "    </g>\n",
              "</svg>\n",
              "      </button>\n",
              "\n",
              "<style>\n",
              "  .colab-df-quickchart {\n",
              "      --bg-color: #E8F0FE;\n",
              "      --fill-color: #1967D2;\n",
              "      --hover-bg-color: #E2EBFA;\n",
              "      --hover-fill-color: #174EA6;\n",
              "      --disabled-fill-color: #AAA;\n",
              "      --disabled-bg-color: #DDD;\n",
              "  }\n",
              "\n",
              "  [theme=dark] .colab-df-quickchart {\n",
              "      --bg-color: #3B4455;\n",
              "      --fill-color: #D2E3FC;\n",
              "      --hover-bg-color: #434B5C;\n",
              "      --hover-fill-color: #FFFFFF;\n",
              "      --disabled-bg-color: #3B4455;\n",
              "      --disabled-fill-color: #666;\n",
              "  }\n",
              "\n",
              "  .colab-df-quickchart {\n",
              "    background-color: var(--bg-color);\n",
              "    border: none;\n",
              "    border-radius: 50%;\n",
              "    cursor: pointer;\n",
              "    display: none;\n",
              "    fill: var(--fill-color);\n",
              "    height: 32px;\n",
              "    padding: 0;\n",
              "    width: 32px;\n",
              "  }\n",
              "\n",
              "  .colab-df-quickchart:hover {\n",
              "    background-color: var(--hover-bg-color);\n",
              "    box-shadow: 0 1px 2px rgba(60, 64, 67, 0.3), 0 1px 3px 1px rgba(60, 64, 67, 0.15);\n",
              "    fill: var(--button-hover-fill-color);\n",
              "  }\n",
              "\n",
              "  .colab-df-quickchart-complete:disabled,\n",
              "  .colab-df-quickchart-complete:disabled:hover {\n",
              "    background-color: var(--disabled-bg-color);\n",
              "    fill: var(--disabled-fill-color);\n",
              "    box-shadow: none;\n",
              "  }\n",
              "\n",
              "  .colab-df-spinner {\n",
              "    border: 2px solid var(--fill-color);\n",
              "    border-color: transparent;\n",
              "    border-bottom-color: var(--fill-color);\n",
              "    animation:\n",
              "      spin 1s steps(1) infinite;\n",
              "  }\n",
              "\n",
              "  @keyframes spin {\n",
              "    0% {\n",
              "      border-color: transparent;\n",
              "      border-bottom-color: var(--fill-color);\n",
              "      border-left-color: var(--fill-color);\n",
              "    }\n",
              "    20% {\n",
              "      border-color: transparent;\n",
              "      border-left-color: var(--fill-color);\n",
              "      border-top-color: var(--fill-color);\n",
              "    }\n",
              "    30% {\n",
              "      border-color: transparent;\n",
              "      border-left-color: var(--fill-color);\n",
              "      border-top-color: var(--fill-color);\n",
              "      border-right-color: var(--fill-color);\n",
              "    }\n",
              "    40% {\n",
              "      border-color: transparent;\n",
              "      border-right-color: var(--fill-color);\n",
              "      border-top-color: var(--fill-color);\n",
              "    }\n",
              "    60% {\n",
              "      border-color: transparent;\n",
              "      border-right-color: var(--fill-color);\n",
              "    }\n",
              "    80% {\n",
              "      border-color: transparent;\n",
              "      border-right-color: var(--fill-color);\n",
              "      border-bottom-color: var(--fill-color);\n",
              "    }\n",
              "    90% {\n",
              "      border-color: transparent;\n",
              "      border-bottom-color: var(--fill-color);\n",
              "    }\n",
              "  }\n",
              "</style>\n",
              "\n",
              "      <script>\n",
              "        async function quickchart(key) {\n",
              "          const quickchartButtonEl =\n",
              "            document.querySelector('#' + key + ' button');\n",
              "          quickchartButtonEl.disabled = true;  // To prevent multiple clicks.\n",
              "          quickchartButtonEl.classList.add('colab-df-spinner');\n",
              "          try {\n",
              "            const charts = await google.colab.kernel.invokeFunction(\n",
              "                'suggestCharts', [key], {});\n",
              "          } catch (error) {\n",
              "            console.error('Error during call to suggestCharts:', error);\n",
              "          }\n",
              "          quickchartButtonEl.classList.remove('colab-df-spinner');\n",
              "          quickchartButtonEl.classList.add('colab-df-quickchart-complete');\n",
              "        }\n",
              "        (() => {\n",
              "          let quickchartButtonEl =\n",
              "            document.querySelector('#df-e8dcdd8e-b780-4143-959f-6ea591533857 button');\n",
              "          quickchartButtonEl.style.display =\n",
              "            google.colab.kernel.accessAllowed ? 'block' : 'none';\n",
              "        })();\n",
              "      </script>\n",
              "    </div>\n",
              "\n",
              "    </div>\n",
              "  </div>\n"
            ],
            "application/vnd.google.colaboratory.intrinsic+json": {
              "type": "dataframe",
              "summary": "{\n  \"name\": \"display(df['task4_hard_label']\",\n  \"rows\": 5,\n  \"fields\": [\n    {\n      \"column\": \"task4_hard\",\n      \"properties\": {\n        \"dtype\": \"object\",\n        \"semantic_type\": \"\",\n        \"description\": \"\"\n      }\n    },\n    {\n      \"column\": \"task4_hard_label\",\n      \"properties\": {\n        \"dtype\": \"number\",\n        \"std\": 0,\n        \"min\": 0,\n        \"max\": 1,\n        \"num_unique_values\": 2,\n        \"samples\": [\n          0,\n          1\n        ],\n        \"semantic_type\": \"\",\n        \"description\": \"\"\n      }\n    }\n  ]\n}"
            }
          },
          "metadata": {}
        },
        {
          "output_type": "stream",
          "name": "stdout",
          "text": [
            "<class 'pandas.core.series.Series'>\n",
            "RangeIndex: 4044 entries, 0 to 4043\n",
            "Series name: task4_hard_label\n",
            "Non-Null Count  Dtype\n",
            "--------------  -----\n",
            "4044 non-null   int64\n",
            "dtypes: int64(1)\n",
            "memory usage: 31.7 KB\n"
          ]
        },
        {
          "output_type": "display_data",
          "data": {
            "text/plain": [
              "None"
            ]
          },
          "metadata": {}
        }
      ]
    },
    {
      "cell_type": "markdown",
      "metadata": {
        "id": "c64c6e2a"
      },
      "source": [
        "**Reasoning**:\n",
        "The 'task4_hard_label' column has been successfully created and converted to an integer type. Now, to understand the distribution of labels in the 'task4_hard' column as required by the subtask, I will calculate and display the value counts for the 'task4_hard_label' column.\n",
        "\n"
      ]
    },
    {
      "cell_type": "code",
      "metadata": {
        "colab": {
          "base_uri": "https://localhost:8080/"
        },
        "id": "be0d3c0f",
        "outputId": "a8745ac9-3098-4731-d5d8-a248c33bfabd"
      },
      "source": [
        "# Calculate and display the value counts for the 'task4_hard_label' column\n",
        "label_counts = df['task4_hard_label'].value_counts()\n",
        "print(\"Value counts for 'task4_hard_label':\")\n",
        "print(label_counts)"
      ],
      "execution_count": 39,
      "outputs": [
        {
          "output_type": "stream",
          "name": "stdout",
          "text": [
            "Value counts for 'task4_hard_label':\n",
            "task4_hard_label\n",
            "1    2324\n",
            "0    1720\n",
            "Name: count, dtype: int64\n"
          ]
        }
      ]
    },
    {
      "cell_type": "code",
      "source": [
        "# Add more regularization and early stopping\n",
        "import pandas as pd\n",
        "import torch\n",
        "from torch import nn\n",
        "from torch.utils.data import Dataset, DataLoader, random_split\n",
        "from sentence_transformers import SentenceTransformer\n",
        "from PIL import Image\n",
        "from tqdm import tqdm\n",
        "import ast\n",
        "import os\n",
        "\n",
        "class MultimodalClassifier(nn.Module):\n",
        "    def __init__(self, num_classes=1):\n",
        "        super(MultimodalClassifier, self).__init__()\n",
        "        self.img_model = SentenceTransformer('clip-ViT-B-32')\n",
        "        self.text_model = SentenceTransformer('sentence-transformers/clip-ViT-B-32-multilingual-v1')\n",
        "\n",
        "        embedding_dim = 512  # CLIP default dimension\n",
        "\n",
        "        # Enhanced classifier with more regularization\n",
        "        self.classifier = nn.Sequential(\n",
        "            nn.Linear(embedding_dim * 2, 512),\n",
        "            nn.ReLU(),\n",
        "            nn.BatchNorm1d(512),  # Add Batch Normalization\n",
        "            nn.Dropout(0.5),\n",
        "            nn.Linear(512, 256),\n",
        "            nn.ReLU(),\n",
        "            nn.BatchNorm1d(256),\n",
        "            nn.Dropout(0.4),  # More Dropout\n",
        "            nn.Linear(256, 128),\n",
        "            nn.ReLU(),\n",
        "            nn.Dropout(0.3),\n",
        "            nn.Linear(128, num_classes)\n",
        "        )\n",
        "\n",
        "    def forward(self, images, texts):\n",
        "        with torch.no_grad():\n",
        "            img_embeddings = self.img_model.encode(\n",
        "                images,\n",
        "                convert_to_tensor=True,\n",
        "                device=self._get_device(),\n",
        "                show_progress_bar=False,\n",
        "                batch_size=len(images)\n",
        "            )\n",
        "\n",
        "            text_embeddings = self.text_model.encode(\n",
        "                texts,\n",
        "                convert_to_tensor=True,\n",
        "                device=self._get_device(),\n",
        "                show_progress_bar=False,\n",
        "                batch_size=len(texts)\n",
        "            )\n",
        "\n",
        "        combined_embeddings = torch.cat((img_embeddings, text_embeddings), dim=1)\n",
        "        logits = self.classifier(combined_embeddings)\n",
        "        return logits\n",
        "\n",
        "    def _get_device(self):\n",
        "        return next(self.parameters()).device\n",
        "\n",
        "# Dataset and collate_fn remain unchanged\n",
        "class MemeDataset(Dataset):\n",
        "    def __init__(self, csv_file, image_dir):\n",
        "        self.dataframe = pd.read_csv(csv_file)\n",
        "        self.image_dir = image_dir\n",
        "\n",
        "    def __len__(self):\n",
        "        return len(self.dataframe)\n",
        "\n",
        "    def __getitem__(self, idx):\n",
        "        if torch.is_tensor(idx):\n",
        "            idx = idx.tolist()\n",
        "\n",
        "        img_id = str(self.dataframe.iloc[idx]['id'])\n",
        "        possible_extensions = ['.jpeg', '.jpg', '.png', '.JPEG', '.JPG', '.PNG']\n",
        "\n",
        "        img_path = None\n",
        "        for ext in possible_extensions:\n",
        "            temp_path = os.path.join(self.image_dir, img_id + ext)\n",
        "            if os.path.exists(temp_path):\n",
        "                img_path = temp_path\n",
        "                break\n",
        "\n",
        "        if img_path is None:\n",
        "            raise FileNotFoundError(f\"Image not found: {img_id}\")\n",
        "\n",
        "        image = Image.open(img_path).convert(\"RGB\")\n",
        "        text = self.dataframe.iloc[idx]['text']\n",
        "\n",
        "        label_str = self.dataframe.iloc[idx]['task4_hard']\n",
        "        label_vec = ast.literal_eval(label_str)\n",
        "        label_idx = label_vec.index(1.0)\n",
        "        label = torch.tensor(label_idx, dtype=torch.float)\n",
        "\n",
        "        return {'image': image, 'text': text, 'label': label}\n",
        "\n",
        "def custom_collate_fn(batch):\n",
        "    images = [item['image'] for item in batch]\n",
        "    texts = [item['text'] for item in batch]\n",
        "    labels = torch.stack([item['label'] for item in batch])\n",
        "\n",
        "    return {\n",
        "        'image': images,\n",
        "        'text': texts,\n",
        "        'label': labels\n",
        "    }\n",
        "\n",
        "# Training settings\n",
        "EPOCHS = 10  # Increase epochs, use early stopping\n",
        "LEARNING_RATE = 1e-4  # Reduce learning rate\n",
        "BATCH_SIZE = 16\n",
        "PATIENCE = 3  # Early stopping patience\n",
        "\n",
        "CSV_PATH = 'processed_data_all_labels.csv'\n",
        "IMAGE_DIR = 'memes'\n",
        "\n",
        "device = \"cuda\" if torch.cuda.is_available() else \"cpu\"\n",
        "print(f\"Using device: {device}\")\n",
        "\n",
        "# Data splitting 8:1:1\n",
        "full_dataset = MemeDataset(csv_file=CSV_PATH, image_dir=IMAGE_DIR)\n",
        "dataset_size = len(full_dataset)\n",
        "train_size = int(0.8 * dataset_size)\n",
        "val_size = int(0.1 * dataset_size)\n",
        "test_size = dataset_size - train_size - val_size\n",
        "\n",
        "train_dataset, val_dataset, test_dataset = random_split(\n",
        "    full_dataset, [train_size, val_size, test_size]\n",
        ")\n",
        "\n",
        "print(f\"Train set: {train_size}, Validation set: {val_size}, Test set: {test_size}\")\n",
        "\n",
        "train_loader = DataLoader(train_dataset, batch_size=BATCH_SIZE, shuffle=True, collate_fn=custom_collate_fn)\n",
        "val_loader = DataLoader(val_dataset, batch_size=BATCH_SIZE, shuffle=False, collate_fn=custom_collate_fn)\n",
        "test_loader = DataLoader(test_dataset, batch_size=BATCH_SIZE, shuffle=False, collate_fn=custom_collate_fn)\n",
        "\n",
        "# Model and optimizer\n",
        "model = MultimodalClassifier(num_classes=1).to(device)\n",
        "criterion = nn.BCEWithLogitsLoss()\n",
        "optimizer = torch.optim.AdamW(model.parameters(), lr=LEARNING_RATE, weight_decay=0.01)  # Add weight decay\n",
        "\n",
        "# Early stopping mechanism\n",
        "best_val_loss = float('inf')\n",
        "patience_counter = 0\n",
        "\n",
        "# Training loop\n",
        "for epoch in range(EPOCHS):\n",
        "    print(f\"\\n--- Epoch {epoch+1}/{EPOCHS} ---\")\n",
        "\n",
        "    # Training phase\n",
        "    model.train()\n",
        "    progress_bar = tqdm(train_loader, desc=\"Training\")\n",
        "    epoch_train_loss = 0\n",
        "\n",
        "    for batch_idx, batch in enumerate(progress_bar):\n",
        "        images = batch['image']\n",
        "        texts = batch['text']\n",
        "        labels = batch['label'].to(device)\n",
        "\n",
        "        optimizer.zero_grad()\n",
        "        outputs = model(images, texts)\n",
        "        loss = criterion(outputs.squeeze(1), labels)\n",
        "        loss.backward()\n",
        "        optimizer.step()\n",
        "\n",
        "        epoch_train_loss += loss.item()\n",
        "        progress_bar.set_postfix({\n",
        "            'loss': loss.item(),\n",
        "            'avg_loss': epoch_train_loss / (batch_idx + 1)\n",
        "        })\n",
        "\n",
        "    # Validation phase\n",
        "    model.eval()\n",
        "    val_progress = tqdm(val_loader, desc=\"Validation\")\n",
        "    epoch_val_loss = 0\n",
        "    correct = 0\n",
        "    total = 0\n",
        "\n",
        "    with torch.no_grad():\n",
        "        for batch in val_progress:\n",
        "            images = batch['image']\n",
        "            texts = batch['text']\n",
        "            labels = batch['label'].to(device)\n",
        "\n",
        "            outputs = model(images, texts)\n",
        "            loss = criterion(outputs.squeeze(1), labels)\n",
        "            epoch_val_loss += loss.item()\n",
        "\n",
        "            probs = torch.sigmoid(outputs.squeeze(1))\n",
        "            preds = (probs > 0.5).float()\n",
        "            correct += (preds == labels).sum().item()\n",
        "            total += labels.size(0)\n",
        "\n",
        "    avg_train_loss = epoch_train_loss / len(train_loader)\n",
        "    avg_val_loss = epoch_val_loss / len(val_loader)\n",
        "    val_accuracy = correct / total\n",
        "\n",
        "    print(f\"Train Loss: {avg_train_loss:.4f}, Val Loss: {avg_val_loss:.4f}, Val Acc: {val_accuracy:.4f}\")\n",
        "\n",
        "    # Early stopping check\n",
        "    if avg_val_loss < best_val_loss:\n",
        "        best_val_loss = avg_val_loss\n",
        "        patience_counter = 0\n",
        "        torch.save(model.state_dict(), 'best_model.pth')\n",
        "        print(\"✅ Saved best model\")\n",
        "    else:\n",
        "        patience_counter += 1\n",
        "        print(f\"⚠️ Validation loss did not improve ({patience_counter}/{PATIENCE})\")\n",
        "\n",
        "        if patience_counter >= PATIENCE:\n",
        "            print(\"🛑 Early stopping triggered, stopping training\")\n",
        "            break\n",
        "\n",
        "# Load best model for testing\n",
        "print(\"\\n--- Testing Phase ---\")\n",
        "model.load_state_dict(torch.load('best_model.pth'))\n",
        "model.eval()\n",
        "\n",
        "test_correct = 0\n",
        "test_total = 0\n",
        "\n",
        "with torch.no_grad():\n",
        "    for batch in tqdm(test_loader, desc=\"Testing\"):\n",
        "        images = batch['image']\n",
        "        texts = batch['text']\n",
        "        labels = batch['label'].to(device)\n",
        "\n",
        "        outputs = model(images, texts)\n",
        "        probs = torch.sigmoid(outputs.squeeze(1))\n",
        "        preds = (probs > 0.5).float()\n",
        "\n",
        "        test_correct += (preds == labels).sum().item()\n",
        "        test_total += labels.size(0)\n",
        "\n",
        "test_accuracy = test_correct / test_total\n",
        "print(f\"\\n🎯 Final test accuracy: {test_accuracy:.4f}\")"
      ],
      "metadata": {
        "colab": {
          "base_uri": "https://localhost:8080/"
        },
        "id": "A5Dzo04uatbc",
        "outputId": "7761fa31-3d27-4880-b74d-34e176e48d5a"
      },
      "execution_count": 41,
      "outputs": [
        {
          "output_type": "stream",
          "name": "stdout",
          "text": [
            "Using device: cuda\n",
            "Train set: 3235, Validation set: 404, Test set: 405\n",
            "\n",
            "--- Epoch 1/10 ---\n"
          ]
        },
        {
          "output_type": "stream",
          "name": "stderr",
          "text": [
            "Training:  10%|▉         | 20/203 [00:07<01:04,  2.85it/s, loss=0.699, avg_loss=0.678]/usr/local/lib/python3.12/dist-packages/PIL/Image.py:1047: UserWarning: Palette images with Transparency expressed in bytes should be converted to RGBA images\n",
            "  warnings.warn(\n",
            "Training: 100%|██████████| 203/203 [01:20<00:00,  2.53it/s, loss=0.802, avg_loss=0.678]\n",
            "Validation: 100%|██████████| 26/26 [00:09<00:00,  2.75it/s]\n"
          ]
        },
        {
          "output_type": "stream",
          "name": "stdout",
          "text": [
            "Train Loss: 0.6780, Val Loss: 0.6430, Val Acc: 0.6312\n",
            "✅ Saved best model\n",
            "\n",
            "--- Epoch 2/10 ---\n"
          ]
        },
        {
          "output_type": "stream",
          "name": "stderr",
          "text": [
            "Training: 100%|██████████| 203/203 [01:20<00:00,  2.53it/s, loss=0.816, avg_loss=0.632]\n",
            "Validation: 100%|██████████| 26/26 [00:09<00:00,  2.64it/s]\n"
          ]
        },
        {
          "output_type": "stream",
          "name": "stdout",
          "text": [
            "Train Loss: 0.6320, Val Loss: 0.6322, Val Acc: 0.6510\n",
            "✅ Saved best model\n",
            "\n",
            "--- Epoch 3/10 ---\n"
          ]
        },
        {
          "output_type": "stream",
          "name": "stderr",
          "text": [
            "Training: 100%|██████████| 203/203 [01:20<00:00,  2.53it/s, loss=0.982, avg_loss=0.603]\n",
            "Validation: 100%|██████████| 26/26 [00:09<00:00,  2.64it/s]\n"
          ]
        },
        {
          "output_type": "stream",
          "name": "stdout",
          "text": [
            "Train Loss: 0.6032, Val Loss: 0.6093, Val Acc: 0.6658\n",
            "✅ Saved best model\n",
            "\n",
            "--- Epoch 4/10 ---\n"
          ]
        },
        {
          "output_type": "stream",
          "name": "stderr",
          "text": [
            "Training: 100%|██████████| 203/203 [01:19<00:00,  2.54it/s, loss=1.09, avg_loss=0.585]\n",
            "Validation: 100%|██████████| 26/26 [00:08<00:00,  2.95it/s]\n"
          ]
        },
        {
          "output_type": "stream",
          "name": "stdout",
          "text": [
            "Train Loss: 0.5853, Val Loss: 0.6238, Val Acc: 0.6460\n",
            "⚠️ Validation loss did not improve (1/3)\n",
            "\n",
            "--- Epoch 5/10 ---\n"
          ]
        },
        {
          "output_type": "stream",
          "name": "stderr",
          "text": [
            "Training: 100%|██████████| 203/203 [01:19<00:00,  2.54it/s, loss=0.646, avg_loss=0.557]\n",
            "Validation: 100%|██████████| 26/26 [00:09<00:00,  2.65it/s]\n"
          ]
        },
        {
          "output_type": "stream",
          "name": "stdout",
          "text": [
            "Train Loss: 0.5572, Val Loss: 0.6132, Val Acc: 0.6609\n",
            "⚠️ Validation loss did not improve (2/3)\n",
            "\n",
            "--- Epoch 6/10 ---\n"
          ]
        },
        {
          "output_type": "stream",
          "name": "stderr",
          "text": [
            "Training: 100%|██████████| 203/203 [01:19<00:00,  2.56it/s, loss=1.05, avg_loss=0.536]\n",
            "Validation: 100%|██████████| 26/26 [00:09<00:00,  2.62it/s]\n"
          ]
        },
        {
          "output_type": "stream",
          "name": "stdout",
          "text": [
            "Train Loss: 0.5359, Val Loss: 0.6122, Val Acc: 0.6708\n",
            "⚠️ Validation loss did not improve (3/3)\n",
            "🛑 Early stopping triggered, stopping training\n",
            "\n",
            "--- Testing Phase ---\n"
          ]
        },
        {
          "output_type": "stream",
          "name": "stderr",
          "text": [
            "Testing: 100%|██████████| 26/26 [00:11<00:00,  2.30it/s]"
          ]
        },
        {
          "output_type": "stream",
          "name": "stdout",
          "text": [
            "\n",
            "🎯 Final test accuracy: 0.6617\n"
          ]
        },
        {
          "output_type": "stream",
          "name": "stderr",
          "text": [
            "\n"
          ]
        }
      ]
    }
  ]
}